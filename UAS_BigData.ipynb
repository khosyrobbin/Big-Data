{
  "nbformat": 4,
  "nbformat_minor": 0,
  "metadata": {
    "colab": {
      "name": "UAS_BigData.ipynb",
      "provenance": [],
      "authorship_tag": "ABX9TyOQGyBWxOOtqIlgN09RFYFk",
      "include_colab_link": true
    },
    "kernelspec": {
      "name": "python3",
      "display_name": "Python 3"
    },
    "language_info": {
      "name": "python"
    }
  },
  "cells": [
    {
      "cell_type": "markdown",
      "metadata": {
        "id": "view-in-github",
        "colab_type": "text"
      },
      "source": [
        "<a href=\"https://colab.research.google.com/github/khosyrobbin/Big-Data/blob/main/UAS_BigData.ipynb\" target=\"_parent\"><img src=\"https://colab.research.google.com/assets/colab-badge.svg\" alt=\"Open In Colab\"/></a>"
      ]
    },
    {
      "cell_type": "code",
      "source": [
        "# akses drive\n",
        "from google.colab import drive\n",
        "\n",
        "drive.mount('/content/drive')"
      ],
      "metadata": {
        "colab": {
          "base_uri": "https://localhost:8080/"
        },
        "id": "RYPBGx5o6zTI",
        "outputId": "a29a6b11-4f9f-4a0c-bbd5-562c5c8526d8"
      },
      "execution_count": null,
      "outputs": [
        {
          "output_type": "stream",
          "name": "stdout",
          "text": [
            "Mounted at /content/drive\n"
          ]
        }
      ]
    },
    {
      "cell_type": "code",
      "source": [
        "import matplotlib.pyplot as plt\n",
        "import pandas as pd\n",
        "import json"
      ],
      "metadata": {
        "id": "adKmuggxeMqu"
      },
      "execution_count": null,
      "outputs": []
    },
    {
      "cell_type": "code",
      "execution_count": null,
      "metadata": {
        "id": "nnn-leRe5kXZ"
      },
      "outputs": [],
      "source": [
        "!apt-get install openjdk-8-jdk-headless -qq > /dev/null"
      ]
    },
    {
      "cell_type": "code",
      "source": [
        "!wget -q https://dlcdn.apache.org/spark/spark-3.2.1/spark-3.2.1-bin-hadoop3.2.tgz\n",
        "!tar xf spark-3.2.1-bin-hadoop3.2.tgz"
      ],
      "metadata": {
        "id": "x8HfCOAO5_vI"
      },
      "execution_count": null,
      "outputs": []
    },
    {
      "cell_type": "code",
      "source": [
        "import os\n",
        "os.environ[\"JAVA_HOME\"] = \"/usr/lib/jvm/java-8-openjdk-amd64\"\n",
        "os.environ[\"SPARK_HOME\"] = \"/content/spark-3.2.1-bin-hadoop3.2\""
      ],
      "metadata": {
        "id": "3x5yeldX6Hzv"
      },
      "execution_count": null,
      "outputs": []
    },
    {
      "cell_type": "code",
      "source": [
        "!pip install -q findspark"
      ],
      "metadata": {
        "id": "ILclbJIr6RMv"
      },
      "execution_count": null,
      "outputs": []
    },
    {
      "cell_type": "code",
      "source": [
        "import findspark\n",
        "findspark.init()"
      ],
      "metadata": {
        "id": "jeciXk0c6dS5"
      },
      "execution_count": null,
      "outputs": []
    },
    {
      "cell_type": "code",
      "source": [
        "from pyspark.sql import SparkSession\n",
        "spark = SparkSession.builder\\\n",
        ".master(\"local\")\\\n",
        ".appName(\"Colab\")\\\n",
        ".config('spark.ui.port', '4050')\\\n",
        ".getOrCreate()"
      ],
      "metadata": {
        "id": "-zz6sHrG6gxv"
      },
      "execution_count": null,
      "outputs": []
    },
    {
      "cell_type": "code",
      "source": [
        "df = spark.read.json(\"/content/drive/MyDrive/BIG DATA/uas.json\")"
      ],
      "metadata": {
        "id": "D4CTilpA6l8f"
      },
      "execution_count": null,
      "outputs": []
    },
    {
      "cell_type": "code",
      "source": [
        "df.show()"
      ],
      "metadata": {
        "colab": {
          "base_uri": "https://localhost:8080/"
        },
        "id": "NX7zdFHM7Lg4",
        "outputId": "de9d96b7-370b-480a-d160-41efd6686bdf"
      },
      "execution_count": null,
      "outputs": [
        {
          "output_type": "stream",
          "name": "stdout",
          "text": [
            "+-----+--------------+---------------+------------+-----+\n",
            "| code|   description|      marketcap|        name|price|\n",
            "+-----+--------------+---------------+------------+-----+\n",
            "|     |              |               |            |     |\n",
            "|  BTC|1st generation|383,629,943,176|     Bitcoin|20000|\n",
            "|  ETH|2st generation|135,006,892,320|    Ethereum| 1110|\n",
            "|  BNB|3st generation| 35,677,864,722|     Binance|  218|\n",
            "|  ADA|3st generation| 15,823,692,606|     Cardano|    1|\n",
            "|  FTX|3st generation|  3,408,284,930|   FTX token|   25|\n",
            "|  SOL|3st generation| 11,879,768,579|      Solana|   33|\n",
            "|  UNI|3st generation|  3,677,071,886|     Uniswap|    9|\n",
            "| DOGE|1st generation|  8,864,757,498|    Dogecoin|  0.3|\n",
            "| SHIB|     NFT token|  5,378,294,121|       Shiba|0.003|\n",
            "|  DOT|3st generation|  7,100,179,843|    Polkadot|  8.2|\n",
            "|  TRX|3st generation|  6,032,490,382|        Tron|  0.1|\n",
            "|MATIC|3st generation|  4,040,185,880|     Polygon|  0.8|\n",
            "|  LTC|3st generation|  3,723,150,437|    Litecoin|   11|\n",
            "| ALGO|3st generation|  2,104,788,520|    Algorand|    6|\n",
            "| ATOM|3st generation|  2,074,475,828|      Cosmos|    3|\n",
            "| MANA|     NFT token|  1,628,041,640|Decentraland|  1.2|\n",
            "|  APE|     NFT token|  1,415,485,583|     ApeCoin|   54|\n",
            "|  XTZ|     NFT token|  1,352,667,846|       Tezos|   23|\n",
            "| SAND|     NFT token|  1,310,962,509|     Sandbox|  3.1|\n",
            "+-----+--------------+---------------+------------+-----+\n",
            "only showing top 20 rows\n",
            "\n"
          ]
        }
      ]
    },
    {
      "cell_type": "code",
      "source": [
        "df.select(\"name\", \"code\", \"price\").show(5)"
      ],
      "metadata": {
        "colab": {
          "base_uri": "https://localhost:8080/"
        },
        "id": "tyX_sh8s-Pr7",
        "outputId": "e6b333f7-e0ff-4be0-87b9-ed016b5eaa56"
      },
      "execution_count": null,
      "outputs": [
        {
          "output_type": "stream",
          "name": "stdout",
          "text": [
            "+--------+----+-----+\n",
            "|    name|code|price|\n",
            "+--------+----+-----+\n",
            "|        |    |     |\n",
            "| Bitcoin| BTC|20000|\n",
            "|Ethereum| ETH| 1110|\n",
            "| Binance| BNB|  218|\n",
            "| Cardano| ADA|    1|\n",
            "+--------+----+-----+\n",
            "only showing top 5 rows\n",
            "\n"
          ]
        }
      ]
    },
    {
      "cell_type": "code",
      "source": [
        "df_filtered = df.filter(\"price > 10 AND name IS NOT NULL\")\n",
        "df_filtered.select(\"name\", \"price\", \"marketcap\").show(5,False)"
      ],
      "metadata": {
        "colab": {
          "base_uri": "https://localhost:8080/"
        },
        "id": "b06yIXOW-dDR",
        "outputId": "620f5f16-5205-4008-aa88-f8b24f18db23"
      },
      "execution_count": null,
      "outputs": [
        {
          "output_type": "stream",
          "name": "stdout",
          "text": [
            "+---------+-----+---------------+\n",
            "|name     |price|marketcap      |\n",
            "+---------+-----+---------------+\n",
            "|Bitcoin  |20000|383,629,943,176|\n",
            "|Ethereum |1110 |135,006,892,320|\n",
            "|Binance  |218  |35,677,864,722 |\n",
            "|FTX token|25   |3,408,284,930  |\n",
            "|Solana   |33   |11,879,768,579 |\n",
            "+---------+-----+---------------+\n",
            "only showing top 5 rows\n",
            "\n"
          ]
        }
      ]
    },
    {
      "cell_type": "code",
      "source": [
        "df.groupby('description').count().sort(df.description).show()"
      ],
      "metadata": {
        "colab": {
          "base_uri": "https://localhost:8080/"
        },
        "id": "KLQOuBGR_BOK",
        "outputId": "83c68b9b-1d19-48a9-8c23-ef2e6084dc1a"
      },
      "execution_count": null,
      "outputs": [
        {
          "output_type": "stream",
          "name": "stdout",
          "text": [
            "+--------------+-----+\n",
            "|   description|count|\n",
            "+--------------+-----+\n",
            "|              |    1|\n",
            "|1st generation|    2|\n",
            "|2st generation|    1|\n",
            "|3st generation|   13|\n",
            "|     NFT token|    5|\n",
            "+--------------+-----+\n",
            "\n"
          ]
        }
      ]
    },
    {
      "cell_type": "code",
      "source": [
        "from pyspark.sql.functions import *\n",
        "maxValue = df_filtered.agg(max(\"marketcap\")).collect()[0][0]\n",
        "print(\"Highest MarketCap: \",maxValue)\n",
        "df_filtered.select(\"code\",\"marketcap\",\"price\").filter(df.marketcap == maxValue).show(5, False)"
      ],
      "metadata": {
        "colab": {
          "base_uri": "https://localhost:8080/"
        },
        "id": "ESktx5vFEz6d",
        "outputId": "5cef0ebc-bf97-4ee3-9e72-00fc5d5cdd4d"
      },
      "execution_count": null,
      "outputs": [
        {
          "output_type": "stream",
          "name": "stdout",
          "text": [
            "Highest MarketCap:  383,629,943,176\n",
            "+----+---------------+-----+\n",
            "|code|marketcap      |price|\n",
            "+----+---------------+-----+\n",
            "|BTC |383,629,943,176|20000|\n",
            "+----+---------------+-----+\n",
            "\n"
          ]
        }
      ]
    },
    {
      "cell_type": "code",
      "source": [
        "minValue = df_filtered.agg(min(\"marketcap\")).collect()[0][0]\n",
        "print(\"Minimal MarketCap: \",minValue)\n",
        "df_filtered.select(\"code\",\"marketcap\",\"price\").filter(df.marketcap == minValue).show(5, False)"
      ],
      "metadata": {
        "colab": {
          "base_uri": "https://localhost:8080/"
        },
        "id": "tfNwDf_ajE8R",
        "outputId": "24e4ec33-382f-41b0-b0b3-9942bea2e615"
      },
      "execution_count": null,
      "outputs": [
        {
          "output_type": "stream",
          "name": "stdout",
          "text": [
            "Minimal MarketCap:  1,352,667,846\n",
            "+----+-------------+-----+\n",
            "|code|marketcap    |price|\n",
            "+----+-------------+-----+\n",
            "|XTZ |1,352,667,846|23   |\n",
            "+----+-------------+-----+\n",
            "\n"
          ]
        }
      ]
    },
    {
      "cell_type": "code",
      "source": [
        "import matplotlib.pyplot as plt\n",
        "import json\n",
        "\n",
        "dictionary = json.load(open('report.json', 'r'))\n",
        "xAxis = [key for key, value in dictionary.items()]\n",
        "yAxis = [value for key, value in dictionary.items()]\n",
        "plt.grid(True)\n",
        "\n",
        "## LINE GRAPH ##\n",
        "plt.plot(xAxis,yAxis, color='maroon', marker='o')\n",
        "plt.xlabel('variable')\n",
        "plt.ylabel('value')\n",
        "\n",
        "## BAR GRAPH ##\n",
        "fig = plt.figure()\n",
        "plt.bar(xAxis,yAxis, color='maroon')\n",
        "plt.xlabel('Crypto')\n",
        "plt.ylabel('Price')\n",
        "\n",
        "plt.show()"
      ],
      "metadata": {
        "colab": {
          "base_uri": "https://localhost:8080/",
          "height": 541
        },
        "id": "duIdA9HpGOpw",
        "outputId": "49d5b994-1d6c-490e-a8ef-3dd6d612eae4"
      },
      "execution_count": null,
      "outputs": [
        {
          "output_type": "display_data",
          "data": {
            "text/plain": [
              "<Figure size 432x288 with 1 Axes>"
            ],
            "image/png": "[encoded data removed]"
          },
          "metadata": {
            "needs_background": "light"
          }
        },
        {
          "output_type": "display_data",
          "data": {
            "text/plain": [
              "<Figure size 432x288 with 1 Axes>"
            ],
            "image/png": "[encoded data removed]"
          },
          "metadata": {
            "needs_background": "light"
          }
        }
      ]
    }
  ]
}